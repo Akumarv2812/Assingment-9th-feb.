{
 "cells": [
  {
   "cell_type": "code",
   "execution_count": 1,
   "id": "320310a4-0354-4ed8-8767-423a46a64072",
   "metadata": {},
   "outputs": [
    {
     "name": "stdout",
     "output_type": "stream",
     "text": [
      "220 10000\n"
     ]
    }
   ],
   "source": [
    "#Answer:1\n",
    "class vehicle:\n",
    "    def __init__(self,max_speed,mileage):\n",
    "        self.max_speed=max_speed\n",
    "        self.mileage=mileage\n",
    "        \n",
    "car=vehicle(220,10000)        \n",
    "print(car.max_speed,car.mileage) "
   ]
  },
  {
   "cell_type": "code",
   "execution_count": 5,
   "id": "e59315d8-a02f-48c3-80c4-2deb18661c63",
   "metadata": {},
   "outputs": [
    {
     "ename": "SyntaxError",
     "evalue": "invalid syntax (219410430.py, line 2)",
     "output_type": "error",
     "traceback": [
      "\u001b[0;36m  Cell \u001b[0;32mIn [5], line 2\u001b[0;36m\u001b[0m\n\u001b[0;31m    When a class is derived from more than one base class it is called multiple Inheritance. The derived class inherits all the features of the base case.\u001b[0m\n\u001b[0m         ^\u001b[0m\n\u001b[0;31mSyntaxError\u001b[0m\u001b[0;31m:\u001b[0m invalid syntax\n"
     ]
    }
   ],
   "source": [
    "#Answer:3\n",
    "When a class is derived from more than one base class it is called multiple Inheritance. The derived class inherits all the features of the base case.\n",
    "#example:\n",
    "Class Base1:\n",
    "       Body of the class\n",
    "\n",
    "Class Base2:\n",
    "     Body of the class\n",
    "\n",
    "Class Derived(Base1, Base2):\n",
    "     Body of the class "
   ]
  },
  {
   "cell_type": "code",
   "execution_count": 14,
   "id": "cbb73329-3d12-400c-bdb9-d0f4466cc75d",
   "metadata": {},
   "outputs": [
    {
     "ename": "SyntaxError",
     "evalue": "invalid syntax (2820132002.py, line 2)",
     "output_type": "error",
     "traceback": [
      "\u001b[0;36m  Cell \u001b[0;32mIn [14], line 2\u001b[0;36m\u001b[0m\n\u001b[0;31m    Getter:\u001b[0m\n\u001b[0m           ^\u001b[0m\n\u001b[0;31mSyntaxError\u001b[0m\u001b[0;31m:\u001b[0m invalid syntax\n"
     ]
    }
   ],
   "source": [
    "#Answer:4\n",
    "Getter:\n",
    "    A method that allows you to access an attribute in a given class.\n",
    "Setter:\n",
    "    A method that allows you to set or mutate the value of an attribute in a class\n",
    "    \n",
    " "
   ]
  },
  {
   "cell_type": "code",
   "execution_count": null,
   "id": "2837e711-6daa-4b0f-ae8f-c525556ccabb",
   "metadata": {},
   "outputs": [],
   "source": [
    "#Answer:5\n",
    "Method overriding is a feature of object-oriented programming languages where the subclass \n",
    "or child class can provide the program with specific characteristics or a specific implementation\n",
    "process of data provided that are already defined in the parent class or superclass.\n",
    "\n"
   ]
  }
 ],
 "metadata": {
  "kernelspec": {
   "display_name": "Python 3 (ipykernel)",
   "language": "python",
   "name": "python3"
  },
  "language_info": {
   "codemirror_mode": {
    "name": "ipython",
    "version": 3
   },
   "file_extension": ".py",
   "mimetype": "text/x-python",
   "name": "python",
   "nbconvert_exporter": "python",
   "pygments_lexer": "ipython3",
   "version": "3.10.6"
  }
 },
 "nbformat": 4,
 "nbformat_minor": 5
}
